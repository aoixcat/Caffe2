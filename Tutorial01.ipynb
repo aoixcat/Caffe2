{
 "cells": [
  {
   "cell_type": "code",
   "execution_count": 1,
   "metadata": {},
   "outputs": [
    {
     "name": "stderr",
     "output_type": "stream",
     "text": [
      "WARNING:root:This caffe2 python run does not have GPU support. Will run in CPU only mode.\n"
     ]
    },
    {
     "name": "stdout",
     "output_type": "stream",
     "text": [
      "[[[0.84747688 0.8486018 ]\n",
      "  [0.81984266 0.31184698]\n",
      "  [0.22540864 0.98031111]]\n",
      "\n",
      " [[0.25274899 0.89135674]\n",
      "  [0.67544037 0.06289514]\n",
      "  [0.26957381 0.67615826]]\n",
      "\n",
      " [[0.73467368 0.13392898]\n",
      "  [0.28905923 0.32732595]\n",
      "  [0.42949235 0.4001876 ]]\n",
      "\n",
      " [[0.77228869 0.73217698]\n",
      "  [0.67320558 0.64453673]\n",
      "  [0.54664149 0.68682756]]]\n",
      "(4, 3, 2)\n",
      "[[[0.84747688 0.8486018 ]\n",
      "  [0.81984266 0.31184698]\n",
      "  [0.22540864 0.98031111]]\n",
      "\n",
      " [[0.25274899 0.89135674]\n",
      "  [0.67544037 0.06289514]\n",
      "  [0.26957381 0.67615826]]\n",
      "\n",
      " [[0.73467368 0.13392898]\n",
      "  [0.28905923 0.32732595]\n",
      "  [0.42949235 0.4001876 ]]\n",
      "\n",
      " [[0.77228869 0.73217698]\n",
      "  [0.67320558 0.64453673]\n",
      "  [0.54664149 0.68682756]]]\n"
     ]
    }
   ],
   "source": [
    "from caffe2.python import workspace, model_helper\n",
    "import numpy as np\n",
    "# Create random tensor of three dimensions\n",
    "x = np.random.rand(4, 3, 2)\n",
    "print(x)\n",
    "print(x.shape)\n",
    "\n",
    "workspace.FeedBlob(\"my_x\", x)\n",
    "\n",
    "x2 = workspace.FetchBlob(\"my_x\")\n",
    "print(x2)"
   ]
  },
  {
   "cell_type": "code",
   "execution_count": 2,
   "metadata": {},
   "outputs": [
    {
     "data": {
      "text/plain": [
       "True"
      ]
     },
     "execution_count": 2,
     "metadata": {},
     "output_type": "execute_result"
    }
   ],
   "source": [
    "# Create the input data\n",
    "data = np.random.rand(16, 100).astype(np.float32)\n",
    "\n",
    "# Create labels for the data as integers [0, 9].\n",
    "label = (np.random.rand(16) * 10).astype(np.int32)\n",
    "\n",
    "workspace.FeedBlob(\"data\", data)\n",
    "workspace.FeedBlob(\"label\", label)"
   ]
  },
  {
   "cell_type": "code",
   "execution_count": 3,
   "metadata": {},
   "outputs": [
    {
     "name": "stdout",
     "output_type": "stream",
     "text": [
      "[[0.40822038 0.33604944 0.8884709  ... 0.7320579  0.9553136  0.74147606]\n",
      " [0.35785785 0.6863163  0.08476458 ... 0.37981117 0.3280057  0.15287311]\n",
      " [0.81047225 0.98456913 0.99941456 ... 0.8349915  0.93825346 0.6201103 ]\n",
      " ...\n",
      " [0.4962244  0.75960124 0.6028746  ... 0.72015774 0.24056654 0.15676954]\n",
      " [0.19160406 0.8653388  0.4089891  ... 0.8297892  0.49838212 0.21671048]\n",
      " [0.09471129 0.82387966 0.8505802  ... 0.8766     0.21314591 0.155918  ]]\n",
      "[2 2 5 6 0 4 8 0 7 8 4 5 1 0 6 6]\n"
     ]
    }
   ],
   "source": [
    "print(data)\n",
    "print(label)"
   ]
  },
  {
   "cell_type": "code",
   "execution_count": 4,
   "metadata": {},
   "outputs": [],
   "source": [
    "# Create model using a model helper\n",
    "m = model_helper.ModelHelper(name=\"my first net\")\n"
   ]
  },
  {
   "cell_type": "code",
   "execution_count": 5,
   "metadata": {},
   "outputs": [],
   "source": [
    "weight = m.param_init_net.XavierFill([], 'fc_w', shape=[10, 100])\n",
    "bias = m.param_init_net.ConstantFill([], 'fc_b', shape=[10, ])"
   ]
  },
  {
   "cell_type": "code",
   "execution_count": 6,
   "metadata": {},
   "outputs": [],
   "source": [
    "fc_1 = m.net.FC([\"data\", \"fc_w\", \"fc_b\"], \"fc1\")\n",
    "pred = m.net.Sigmoid(fc_1, \"pred\")\n",
    "softmax, loss = m.net.SoftmaxWithLoss([pred, \"label\"], [\"softmax\", \"loss\"])\n"
   ]
  },
  {
   "cell_type": "code",
   "execution_count": 6,
   "metadata": {},
   "outputs": [
    {
     "name": "stdout",
     "output_type": "stream",
     "text": [
      "name: \"my first net\"\n",
      "op {\n",
      "  input: \"data\"\n",
      "  input: \"fc_w\"\n",
      "  input: \"fc_b\"\n",
      "  output: \"fc1\"\n",
      "  name: \"\"\n",
      "  type: \"FC\"\n",
      "}\n",
      "op {\n",
      "  input: \"fc1\"\n",
      "  output: \"pred\"\n",
      "  name: \"\"\n",
      "  type: \"Sigmoid\"\n",
      "}\n",
      "op {\n",
      "  input: \"pred\"\n",
      "  input: \"label\"\n",
      "  output: \"softmax\"\n",
      "  output: \"loss\"\n",
      "  name: \"\"\n",
      "  type: \"SoftmaxWithLoss\"\n",
      "}\n",
      "external_input: \"data\"\n",
      "external_input: \"fc_w\"\n",
      "external_input: \"fc_b\"\n",
      "external_input: \"label\"\n",
      "\n"
     ]
    }
   ],
   "source": [
    "print(m.net.Proto())\n"
   ]
  },
  {
   "cell_type": "code",
   "execution_count": 7,
   "metadata": {},
   "outputs": [
    {
     "name": "stdout",
     "output_type": "stream",
     "text": [
      "name: \"my first net_init\"\n",
      "op {\n",
      "  output: \"fc_w\"\n",
      "  name: \"\"\n",
      "  type: \"XavierFill\"\n",
      "  arg {\n",
      "    name: \"shape\"\n",
      "    ints: 10\n",
      "    ints: 100\n",
      "  }\n",
      "}\n",
      "op {\n",
      "  output: \"fc_b\"\n",
      "  name: \"\"\n",
      "  type: \"ConstantFill\"\n",
      "  arg {\n",
      "    name: \"shape\"\n",
      "    ints: 10\n",
      "  }\n",
      "}\n",
      "\n"
     ]
    }
   ],
   "source": [
    "print(m.param_init_net.Proto())\n"
   ]
  },
  {
   "cell_type": "code",
   "execution_count": 8,
   "metadata": {},
   "outputs": [
    {
     "data": {
      "text/plain": [
       "True"
      ]
     },
     "execution_count": 8,
     "metadata": {},
     "output_type": "execute_result"
    }
   ],
   "source": [
    "workspace.RunNetOnce(m.param_init_net)\n"
   ]
  },
  {
   "cell_type": "code",
   "execution_count": 9,
   "metadata": {},
   "outputs": [
    {
     "data": {
      "text/plain": [
       "True"
      ]
     },
     "execution_count": 9,
     "metadata": {},
     "output_type": "execute_result"
    }
   ],
   "source": [
    "workspace.CreateNet(m.net)\n"
   ]
  },
  {
   "cell_type": "code",
   "execution_count": 10,
   "metadata": {},
   "outputs": [],
   "source": [
    "# Run 100 x 10 iterations\n",
    "for _ in range(100):\n",
    "    data = np.random.rand(16, 100).astype(np.float32)\n",
    "    label = (np.random.rand(16) * 10).astype(np.int32)\n",
    "\n",
    "    workspace.FeedBlob(\"data\", data)\n",
    "    workspace.FeedBlob(\"label\", label)\n",
    "\n",
    "    workspace.RunNet(m.name, 10)   # run for 10 times"
   ]
  },
  {
   "cell_type": "code",
   "execution_count": 11,
   "metadata": {},
   "outputs": [
    {
     "name": "stdout",
     "output_type": "stream",
     "text": [
      "[[0.09906642 0.11641821 0.09847591 0.09936987 0.1200726  0.08942176\n",
      "  0.09411614 0.09059852 0.08976386 0.10269673]\n",
      " [0.08667116 0.12015975 0.09889498 0.09799227 0.12645313 0.08653833\n",
      "  0.10251541 0.09169678 0.0933093  0.09576887]\n",
      " [0.10018761 0.11611927 0.086586   0.0939147  0.12527959 0.09030907\n",
      "  0.11082989 0.08773413 0.09450764 0.09453207]\n",
      " [0.0927781  0.11810192 0.09369506 0.09073944 0.1137488  0.08263312\n",
      "  0.10007589 0.0876351  0.10893493 0.11165763]\n",
      " [0.08853658 0.10666709 0.09002154 0.09665764 0.10706157 0.09539367\n",
      "  0.11427453 0.09252985 0.1016605  0.10719694]\n",
      " [0.08701625 0.1183838  0.09644759 0.09740038 0.10980542 0.09371648\n",
      "  0.10209262 0.10300914 0.09566187 0.09646644]\n",
      " [0.09237626 0.10814166 0.09742221 0.1010073  0.12689862 0.0826606\n",
      "  0.09618062 0.09420136 0.09239686 0.10871447]\n",
      " [0.09481184 0.10950677 0.10700133 0.08355938 0.1134512  0.08483928\n",
      "  0.10195229 0.10340553 0.10254233 0.09893006]\n",
      " [0.09254903 0.12369885 0.09454206 0.10343386 0.11304748 0.08173081\n",
      "  0.10722184 0.09016855 0.09157905 0.10202852]\n",
      " [0.09935641 0.10955472 0.08892891 0.10245762 0.11287689 0.08497983\n",
      "  0.11192408 0.08398569 0.09952176 0.10641402]\n",
      " [0.09947146 0.10944476 0.09633121 0.08788338 0.11264265 0.09214066\n",
      "  0.11798115 0.09518819 0.08946308 0.09945344]\n",
      " [0.10923681 0.11915115 0.10061149 0.09132429 0.11439636 0.09200405\n",
      "  0.10863342 0.0775254  0.08078153 0.10633552]\n",
      " [0.097342   0.11291912 0.09227313 0.1059293  0.12314662 0.08992086\n",
      "  0.09604246 0.09041411 0.0925486  0.0994639 ]\n",
      " [0.09623915 0.11639339 0.09050489 0.09107491 0.11611323 0.09645989\n",
      "  0.09622738 0.09585819 0.09703273 0.10409628]\n",
      " [0.09338502 0.11947612 0.08815175 0.09469749 0.12688945 0.08907229\n",
      "  0.1178638  0.08218773 0.09242803 0.09584841]\n",
      " [0.09435853 0.10988584 0.1016475  0.10033771 0.11935636 0.08757917\n",
      "  0.09551526 0.09358573 0.09826668 0.09946729]]\n",
      "2.279486\n"
     ]
    }
   ],
   "source": [
    "print(workspace.FetchBlob(\"softmax\"))\n",
    "print(workspace.FetchBlob(\"loss\"))\n"
   ]
  },
  {
   "cell_type": "code",
   "execution_count": 12,
   "metadata": {},
   "outputs": [
    {
     "data": {
      "text/plain": [
       "{BlobReference(\"loss\"): BlobReference(\"loss_autogen_grad\"),\n",
       " BlobReference(\"pred\"): BlobReference(\"pred_grad\"),\n",
       " BlobReference(\"fc1\"): BlobReference(\"fc1_grad\"),\n",
       " BlobReference(\"data\"): BlobReference(\"data_grad\"),\n",
       " BlobReference(\"fc_w\"): BlobReference(\"fc_w_grad\"),\n",
       " BlobReference(\"fc_b\"): BlobReference(\"fc_b_grad\")}"
      ]
     },
     "execution_count": 12,
     "metadata": {},
     "output_type": "execute_result"
    }
   ],
   "source": [
    "m.AddGradientOperators([loss])\n"
   ]
  },
  {
   "cell_type": "code",
   "execution_count": 13,
   "metadata": {},
   "outputs": [
    {
     "name": "stdout",
     "output_type": "stream",
     "text": [
      "name: \"my first net\"\n",
      "op {\n",
      "  input: \"data\"\n",
      "  input: \"fc_w\"\n",
      "  input: \"fc_b\"\n",
      "  output: \"fc1\"\n",
      "  name: \"\"\n",
      "  type: \"FC\"\n",
      "}\n",
      "op {\n",
      "  input: \"fc1\"\n",
      "  output: \"pred\"\n",
      "  name: \"\"\n",
      "  type: \"Sigmoid\"\n",
      "}\n",
      "op {\n",
      "  input: \"pred\"\n",
      "  input: \"label\"\n",
      "  output: \"softmax\"\n",
      "  output: \"loss\"\n",
      "  name: \"\"\n",
      "  type: \"SoftmaxWithLoss\"\n",
      "}\n",
      "op {\n",
      "  input: \"loss\"\n",
      "  output: \"loss_autogen_grad\"\n",
      "  name: \"\"\n",
      "  type: \"ConstantFill\"\n",
      "  arg {\n",
      "    name: \"value\"\n",
      "    f: 1.0\n",
      "  }\n",
      "}\n",
      "op {\n",
      "  input: \"pred\"\n",
      "  input: \"label\"\n",
      "  input: \"softmax\"\n",
      "  input: \"loss_autogen_grad\"\n",
      "  output: \"pred_grad\"\n",
      "  name: \"\"\n",
      "  type: \"SoftmaxWithLossGradient\"\n",
      "  is_gradient_op: true\n",
      "}\n",
      "op {\n",
      "  input: \"pred\"\n",
      "  input: \"pred_grad\"\n",
      "  output: \"fc1_grad\"\n",
      "  name: \"\"\n",
      "  type: \"SigmoidGradient\"\n",
      "  is_gradient_op: true\n",
      "}\n",
      "op {\n",
      "  input: \"data\"\n",
      "  input: \"fc_w\"\n",
      "  input: \"fc1_grad\"\n",
      "  output: \"fc_w_grad\"\n",
      "  output: \"fc_b_grad\"\n",
      "  output: \"data_grad\"\n",
      "  name: \"\"\n",
      "  type: \"FCGradient\"\n",
      "  is_gradient_op: true\n",
      "}\n",
      "external_input: \"data\"\n",
      "external_input: \"fc_w\"\n",
      "external_input: \"fc_b\"\n",
      "external_input: \"label\"\n",
      "\n"
     ]
    }
   ],
   "source": [
    "print(m.net.Proto())\n"
   ]
  },
  {
   "cell_type": "code",
   "execution_count": null,
   "metadata": {},
   "outputs": [],
   "source": []
  }
 ],
 "metadata": {
  "kernelspec": {
   "display_name": "Python 3",
   "language": "python",
   "name": "python3"
  },
  "language_info": {
   "codemirror_mode": {
    "name": "ipython",
    "version": 3
   },
   "file_extension": ".py",
   "mimetype": "text/x-python",
   "name": "python",
   "nbconvert_exporter": "python",
   "pygments_lexer": "ipython3",
   "version": "3.6.5"
  }
 },
 "nbformat": 4,
 "nbformat_minor": 2
}
