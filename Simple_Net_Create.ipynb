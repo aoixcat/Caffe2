{
 "cells": [
  {
   "cell_type": "code",
   "execution_count": 1,
   "metadata": {},
   "outputs": [
    {
     "name": "stdout",
     "output_type": "stream",
     "text": [
      "graph(%0 : Float(1, 784)\n",
      "      %1 : Float(500, 784)\n",
      "      %2 : Float(500)\n",
      "      %3 : Float(84, 500)\n",
      "      %4 : Float(84)\n",
      "      %5 : Float(10, 84)\n",
      "      %6 : Float(10)) {\n",
      "  %7 : Float(1, 500) = onnx::Gemm[alpha=1, beta=1, broadcast=1, transB=1](%0, %1, %2), scope: Net/Linear[fc1]\n",
      "  %8 : Float(1, 500) = onnx::Relu(%7), scope: Net\n",
      "  %9 : Float(1, 84) = onnx::Gemm[alpha=1, beta=1, broadcast=1, transB=1](%8, %3, %4), scope: Net/Linear[fc2]\n",
      "  %10 : Float(1, 84) = onnx::Relu(%9), scope: Net\n",
      "  %11 : Float(1, 10) = onnx::Gemm[alpha=1, beta=1, broadcast=1, transB=1](%10, %5, %6), scope: Net/Linear[fc3]\n",
      "  %12 : Float(1, 10) = onnx::LogSoftmax[axis=1](%11), scope: Net\n",
      "  return (%12);\n",
      "}\n",
      "\n"
     ]
    },
    {
     "name": "stderr",
     "output_type": "stream",
     "text": [
      "/mnt/f/Linux_home/.local/lib/python2.7/site-packages/ipykernel_launcher.py:16: UserWarning: Implicit dimension choice for log_softmax has been deprecated. Change the call to include dim=X as an argument.\n",
      "  app.launch_new_instance()\n"
     ]
    }
   ],
   "source": [
    "import torch.nn as nn\n",
    "import torch.nn.functional as F\n",
    "from torch.autograd import Variable\n",
    "import torch.onnx\n",
    "\n",
    "class Net(nn.Module):\n",
    "    def __init__(self):\n",
    "        super(Net, self).__init__()\n",
    "        self.fc1 = nn.Linear(784,500)\n",
    "        self.fc2 = nn.Linear(500, 84)\n",
    "        self.fc3 = nn.Linear(84, 10)\n",
    "\n",
    "    def forward(self, x):\n",
    "        x = F.relu(self.fc1(x))\n",
    "        x = F.relu(self.fc2(x))\n",
    "        x = F.log_softmax(self.fc3(x))\n",
    "        return x\n",
    "\n",
    "#モデル定義\n",
    "model = Net()\n",
    "x = Variable(torch.randn(1, 784))\n",
    "torch.onnx.export(model, x, 'model.onnx', verbose=True)"
   ]
  }
 ],
 "metadata": {
  "kernelspec": {
   "display_name": "Python 2",
   "language": "python",
   "name": "python2"
  },
  "language_info": {
   "codemirror_mode": {
    "name": "ipython",
    "version": 2
   },
   "file_extension": ".py",
   "mimetype": "text/x-python",
   "name": "python",
   "nbconvert_exporter": "python",
   "pygments_lexer": "ipython2",
   "version": "2.7.12"
  }
 },
 "nbformat": 4,
 "nbformat_minor": 2
}
