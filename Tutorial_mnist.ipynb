{
 "cells": [
  {
   "cell_type": "code",
   "execution_count": 1,
   "metadata": {},
   "outputs": [
    {
     "name": "stderr",
     "output_type": "stream",
     "text": [
      "WARNING:root:This caffe2 python run does not have GPU support. Will run in CPU only mode.\n",
      "INFO:caffe2.python.net_drawer:Cannot import pydot, which is required for drawing a network. This can usually be installed in python with \"pip install pydot\". Also, pydot requires graphviz to convert dot files to pdf: in ubuntu, this can usually be installed with \"sudo apt-get install graphviz\".\n"
     ]
    },
    {
     "name": "stdout",
     "output_type": "stream",
     "text": [
      "net_drawer will not run correctly. Please install the correct dependencies.\n",
      "Necessities imported!\n"
     ]
    }
   ],
   "source": [
    "from __future__ import absolute_import\n",
    "from __future__ import division\n",
    "from __future__ import print_function\n",
    "from __future__ import unicode_literals\n",
    "%matplotlib inline\n",
    "from matplotlib import pyplot\n",
    "import numpy as np\n",
    "import os\n",
    "import shutil\n",
    "import operator\n",
    "import caffe2.python.predictor.predictor_exporter as pe\n",
    "\n",
    "from caffe2.python import (\n",
    "    brew,\n",
    "    core,\n",
    "    model_helper,\n",
    "    net_drawer,\n",
    "    optimizer,\n",
    "    visualize,\n",
    "    workspace,\n",
    ")\n",
    "\n",
    "# If you would like to see some really detailed initializations,\n",
    "# you can change --caffe2_log_level=0 to --caffe2_log_level=-1\n",
    "core.GlobalInit(['caffe2', '--caffe2_log_level=0'])\n",
    "print(\"Necessities imported!\")\n",
    "\n",
    "# If True, use the LeNet CNN model\n",
    "# If False, a multilayer perceptron model is used\n",
    "USE_LENET_MODEL = True"
   ]
  },
  {
   "cell_type": "code",
   "execution_count": 2,
   "metadata": {},
   "outputs": [
    {
     "name": "stdout",
     "output_type": "stream",
     "text": [
      "lmdb train db found!\n",
      "lmdb test db found!\n",
      "Looks like you ran this before, so we need to cleanup those old files...\n",
      "training data folder:/mnt/f/Linux_home/Workspace/Caffe2/Dataset/tutorial_data/mnist\n",
      "workspace root folder:/mnt/f/Linux_home/Workspace/Caffe2/Dataset/tutorial_files/tutorial_mnist\n"
     ]
    }
   ],
   "source": [
    "# This section preps your image and test set in a lmdb database\n",
    "def DownloadResource(url, path):\n",
    "    '''Downloads resources from s3 by url and unzips them to the provided path'''\n",
    "    import requests, zipfile\n",
    "    from io import BytesIO\n",
    "    print(\"Downloading... {} to {}\".format(url, path))\n",
    "    r = requests.get(url, stream=True)\n",
    "    z = zipfile.ZipFile(BytesIO(r.content))\n",
    "    z.extractall(path)\n",
    "    print(\"Completed download and extraction.\")\n",
    "    \n",
    "# Setup the paths for the necessary directories \n",
    "current_folder = os.path.join(os.getcwd(), 'Dataset')\n",
    "data_folder = os.path.join(current_folder, 'tutorial_data', 'mnist')\n",
    "root_folder = os.path.join(current_folder, 'tutorial_files', 'tutorial_mnist')\n",
    "db_missing = False\n",
    "\n",
    "# Check if the data folder already exists\n",
    "if not os.path.exists(data_folder):\n",
    "    os.makedirs(data_folder)   \n",
    "    print(\"Your data folder was not found!! This was generated: {}\".format(data_folder))\n",
    "\n",
    "# Check if the training lmdb exists in the data folder\n",
    "if os.path.exists(os.path.join(data_folder,\"mnist-train-nchw-lmdb\")):\n",
    "    print(\"lmdb train db found!\")\n",
    "else:\n",
    "    db_missing = True\n",
    "    \n",
    "# Check if the testing lmdb exists in the data folder   \n",
    "if os.path.exists(os.path.join(data_folder,\"mnist-test-nchw-lmdb\")):\n",
    "    print(\"lmdb test db found!\")\n",
    "else:\n",
    "    db_missing = True\n",
    "\n",
    "# Attempt the download of the db if either was missing\n",
    "if db_missing:\n",
    "    print(\"one or both of the MNIST lmbd dbs not found!!\")\n",
    "    db_url = \"http://download.caffe2.ai/databases/mnist-lmdb.zip\"\n",
    "    try:\n",
    "        DownloadResource(db_url, data_folder)\n",
    "    except Exception as ex:\n",
    "        print(\"Failed to download dataset. Please download it manually from {}\".format(db_url))\n",
    "        print(\"Unzip it and place the two database folders here: {}\".format(data_folder))\n",
    "        raise ex\n",
    "\n",
    "# Clean up statistics from any old runs\n",
    "if os.path.exists(root_folder):\n",
    "    print(\"Looks like you ran this before, so we need to cleanup those old files...\")\n",
    "    shutil.rmtree(root_folder)\n",
    "    \n",
    "os.makedirs(root_folder)\n",
    "workspace.ResetWorkspace(root_folder)\n",
    "\n",
    "print(\"training data folder:\" + data_folder)\n",
    "print(\"workspace root folder:\" + root_folder)"
   ]
  },
  {
   "cell_type": "code",
   "execution_count": 3,
   "metadata": {},
   "outputs": [],
   "source": [
    "def AddInput(model, batch_size, db, db_type):\n",
    "    ### load the data from db - Method 1 using brew\n",
    "    #data_uint8, label = brew.db_input(\n",
    "    #    model,\n",
    "    #    blobs_out=[\"data_uint8\", \"label\"],\n",
    "    #    batch_size=batch_size,\n",
    "    #    db=db,\n",
    "    #    db_type=db_type,\n",
    "    #)\n",
    "    ### load the data from db - Method 2 using TensorProtosDB\n",
    "    data_uint8, label = model.TensorProtosDBInput(\n",
    "        [], [\"data_uint8\", \"label\"], batch_size=batch_size,\n",
    "        db=db, db_type=db_type)\n",
    "    # cast the data to float\n",
    "    data = model.Cast(data_uint8, \"data\", to=core.DataType.FLOAT)\n",
    "    # scale data from [0,255] down to [0,1]\n",
    "    data = model.Scale(data, data, scale=float(1./256))\n",
    "    # don't need the gradient for the backward pass\n",
    "    data = model.StopGradient(data, data)\n",
    "    return data, label"
   ]
  },
  {
   "cell_type": "code",
   "execution_count": 4,
   "metadata": {},
   "outputs": [],
   "source": [
    "# Function to construct a MLP neural network\n",
    "# The input 'model' is a model helper and 'data' is the input data blob's name\n",
    "def AddMLPModel(model, data):\n",
    "    size = 28 * 28 * 1\n",
    "    sizes = [size, size * 2, size * 2, 10]\n",
    "    layer = data\n",
    "    for i in range(len(sizes) - 1):\n",
    "        layer = brew.fc(model, layer, 'dense_{}'.format(i), dim_in=sizes[i], dim_out=sizes[i + 1])\n",
    "        layer = brew.relu(model, layer, 'relu_{}'.format(i))\n",
    "    softmax = brew.softmax(model, layer, 'softmax')\n",
    "    return softmax"
   ]
  },
  {
   "cell_type": "code",
   "execution_count": 5,
   "metadata": {},
   "outputs": [],
   "source": [
    "def AddLeNetModel(model, data):\n",
    "    '''\n",
    "    This part is the standard LeNet model: from data to the softmax prediction.\n",
    "    \n",
    "    For each convolutional layer we specify dim_in - number of input channels\n",
    "    and dim_out - number or output channels. Also each Conv and MaxPool layer changes the\n",
    "    image size. For example, kernel of size 5 reduces each side of an image by 4.\n",
    "\n",
    "    While when we have kernel and stride sizes equal 2 in a MaxPool layer, it divides\n",
    "    each side in half.\n",
    "    '''\n",
    "    # Image size: 28 x 28 -> 24 x 24\n",
    "    conv1 = brew.conv(model, data, 'conv1', dim_in=1, dim_out=20, kernel=5)\n",
    "    # Image size: 24 x 24 -> 12 x 12\n",
    "    pool1 = brew.max_pool(model, conv1, 'pool1', kernel=2, stride=2)\n",
    "    # Image size: 12 x 12 -> 8 x 8\n",
    "    conv2 = brew.conv(model, pool1, 'conv2', dim_in=20, dim_out=50, kernel=5)\n",
    "    # Image size: 8 x 8 -> 4 x 4\n",
    "    pool2 = brew.max_pool(model, conv2, 'pool2', kernel=2, stride=2)\n",
    "    # 50 * 4 * 4 stands for dim_out from previous layer multiplied by the image size\n",
    "    # Here, the data is flattened from a tensor of dimension 50x4x4 to a vector of length 50*4*4\n",
    "    fc3 = brew.fc(model, pool2, 'fc3', dim_in=50 * 4 * 4, dim_out=500)\n",
    "    relu3 = brew.relu(model, fc3, 'relu3')\n",
    "    # Last FC Layer\n",
    "    pred = brew.fc(model, relu3, 'pred', dim_in=500, dim_out=10)\n",
    "    # Softmax Layer\n",
    "    softmax = brew.softmax(model, pred, 'softmax')\n",
    "    \n",
    "    return softmax"
   ]
  },
  {
   "cell_type": "code",
   "execution_count": 6,
   "metadata": {},
   "outputs": [],
   "source": [
    "def AddModel(model, data):\n",
    "    if USE_LENET_MODEL:\n",
    "        return AddLeNetModel(model, data)\n",
    "    else:\n",
    "        return AddMLPModel(model, data)"
   ]
  },
  {
   "cell_type": "code",
   "execution_count": 7,
   "metadata": {},
   "outputs": [],
   "source": [
    "def AddAccuracy(model, softmax, label):\n",
    "    \"\"\"Adds an accuracy op to the model\"\"\"\n",
    "    accuracy = brew.accuracy(model, [softmax, label], \"accuracy\")\n",
    "    return accuracy"
   ]
  },
  {
   "cell_type": "code",
   "execution_count": 8,
   "metadata": {},
   "outputs": [],
   "source": [
    "def AddTrainingOperators(model, softmax, label):\n",
    "    \"\"\"Adds training operators to the model.\"\"\"\n",
    "    # Compute cross entropy between softmax scores and labels\n",
    "    xent = model.LabelCrossEntropy([softmax, label], 'xent')\n",
    "    # Compute the expected loss\n",
    "    loss = model.AveragedLoss(xent, \"loss\")\n",
    "    # Track the accuracy of the model\n",
    "    AddAccuracy(model, softmax, label)\n",
    "    # Use the average loss we just computed to add gradient operators to the model\n",
    "    model.AddGradientOperators([loss])\n",
    "    # Specify the optimization algorithm\n",
    "    optimizer.build_sgd(\n",
    "        model,\n",
    "        base_learning_rate=0.1,\n",
    "        policy=\"step\",\n",
    "        stepsize=1,\n",
    "        gamma=0.999,\n",
    "    )"
   ]
  },
  {
   "cell_type": "code",
   "execution_count": 9,
   "metadata": {},
   "outputs": [],
   "source": [
    "def AddBookkeepingOperators(model):\n",
    "    \"\"\"This adds a few bookkeeping operators that we can inspect later.\n",
    "    \n",
    "    These operators do not affect the training procedure: they only collect\n",
    "    statistics and prints them to file or to logs.\n",
    "    \"\"\"    \n",
    "    # Print basically prints out the content of the blob. to_file=1 routes the\n",
    "    # printed output to a file. The file is going to be stored under\n",
    "    #     root_folder/[blob name]\n",
    "    model.Print('accuracy', [], to_file=1)\n",
    "    model.Print('loss', [], to_file=1)\n",
    "    # Summarizes the parameters. Different from Print, Summarize gives some\n",
    "    # statistics of the parameter, such as mean, std, min and max.\n",
    "    for param in model.params:\n",
    "        model.Summarize(param, [], to_file=1)\n",
    "        model.Summarize(model.param_to_grad[param], [], to_file=1)\n",
    "    # Now, if we really want to be verbose, we can summarize EVERY blob\n",
    "    # that the model produces; it is probably not a good idea, because that\n",
    "    # is going to take time - summarization do not come for free. For this\n",
    "    # demo, we will only show how to summarize the parameters and their\n",
    "    # gradients."
   ]
  },
  {
   "cell_type": "code",
   "execution_count": 10,
   "metadata": {},
   "outputs": [
    {
     "data": {
      "text/plain": [
       "BlobReference(\"softmax\")"
      ]
     },
     "execution_count": 10,
     "metadata": {},
     "output_type": "execute_result"
    }
   ],
   "source": [
    "#### Train Model\n",
    "# Specify the data will be input in NCHW order\n",
    "#  (i.e. [batch_size, num_channels, height, width])\n",
    "arg_scope = {\"order\": \"NCHW\"}\n",
    "# Create the model helper for the train model\n",
    "train_model = model_helper.ModelHelper(name=\"mnist_train\", arg_scope=arg_scope)\n",
    "# Specify the input is from the train lmdb\n",
    "data, label = AddInput(\n",
    "    train_model, batch_size=64,\n",
    "    db=os.path.join(data_folder, 'mnist-train-nchw-lmdb'),\n",
    "    db_type='lmdb')\n",
    "# Add the model definition (fc layers, conv layers, softmax, etc.)\n",
    "softmax = AddModel(train_model, data)\n",
    "# Add training operators, specify loss function and optimization algorithm\n",
    "AddTrainingOperators(train_model, softmax, label)\n",
    "# Add bookkeeping operators to save stats from training\n",
    "AddBookkeepingOperators(train_model)\n",
    "\n",
    "#### Testing model. \n",
    "# We will set the batch size to 100, so that the testing\n",
    "#   pass is 100 iterations (10,000 images in total).\n",
    "#   For the testing model, we need the data input part, the main AddModel\n",
    "#   part, and an accuracy part. Note that init_params is set False because\n",
    "#   we will be using the parameters obtained from the train model which will\n",
    "#   already be in the workspace.\n",
    "test_model = model_helper.ModelHelper(\n",
    "    name=\"mnist_test\", arg_scope=arg_scope, init_params=False)\n",
    "data, label = AddInput(\n",
    "    test_model, batch_size=100,\n",
    "    db=os.path.join(data_folder, 'mnist-test-nchw-lmdb'),\n",
    "    db_type='lmdb')\n",
    "softmax = AddModel(test_model, data)\n",
    "AddAccuracy(test_model, softmax, label)\n",
    "\n",
    "#### Deployment model. \n",
    "# We simply need the main AddModel part.\n",
    "deploy_model = model_helper.ModelHelper(\n",
    "    name=\"mnist_deploy\", arg_scope=arg_scope, init_params=False)\n",
    "AddModel(deploy_model, \"data\")"
   ]
  },
  {
   "cell_type": "code",
   "execution_count": 11,
   "metadata": {},
   "outputs": [
    {
     "ename": "AttributeError",
     "evalue": "'NoneType' object has no attribute 'Dot'",
     "output_type": "error",
     "traceback": [
      "\u001b[0;31m---------------------------------------------------------------------------\u001b[0m",
      "\u001b[0;31mAttributeError\u001b[0m                            Traceback (most recent call last)",
      "\u001b[0;32m<ipython-input-11-2fc73cc9d9be>\u001b[0m in \u001b[0;36m<module>\u001b[0;34m()\u001b[0m\n\u001b[1;32m      1\u001b[0m \u001b[0;32mfrom\u001b[0m \u001b[0mIPython\u001b[0m \u001b[0;32mimport\u001b[0m \u001b[0mdisplay\u001b[0m\u001b[0;34m\u001b[0m\u001b[0m\n\u001b[0;32m----> 2\u001b[0;31m \u001b[0mgraph\u001b[0m \u001b[0;34m=\u001b[0m \u001b[0mnet_drawer\u001b[0m\u001b[0;34m.\u001b[0m\u001b[0mGetPydotGraph\u001b[0m\u001b[0;34m(\u001b[0m\u001b[0mtrain_model\u001b[0m\u001b[0;34m.\u001b[0m\u001b[0mnet\u001b[0m\u001b[0;34m.\u001b[0m\u001b[0mProto\u001b[0m\u001b[0;34m(\u001b[0m\u001b[0;34m)\u001b[0m\u001b[0;34m.\u001b[0m\u001b[0mop\u001b[0m\u001b[0;34m,\u001b[0m \u001b[0;34m\"mnist\"\u001b[0m\u001b[0;34m,\u001b[0m \u001b[0mrankdir\u001b[0m\u001b[0;34m=\u001b[0m\u001b[0;34m\"LR\"\u001b[0m\u001b[0;34m)\u001b[0m\u001b[0;34m\u001b[0m\u001b[0m\n\u001b[0m\u001b[1;32m      3\u001b[0m \u001b[0mdisplay\u001b[0m\u001b[0;34m.\u001b[0m\u001b[0mImage\u001b[0m\u001b[0;34m(\u001b[0m\u001b[0mgraph\u001b[0m\u001b[0;34m.\u001b[0m\u001b[0mcreate_png\u001b[0m\u001b[0;34m(\u001b[0m\u001b[0;34m)\u001b[0m\u001b[0;34m,\u001b[0m \u001b[0mwidth\u001b[0m\u001b[0;34m=\u001b[0m\u001b[0;36m800\u001b[0m\u001b[0;34m)\u001b[0m\u001b[0;34m\u001b[0m\u001b[0m\n",
      "\u001b[0;32m~/anaconda3/lib/python3.6/site-packages/caffe2/python/net_drawer.py\u001b[0m in \u001b[0;36mGetPydotGraph\u001b[0;34m(operators_or_net, name, rankdir, node_producer)\u001b[0m\n\u001b[1;32m     89\u001b[0m         \u001b[0mnode_producer\u001b[0m \u001b[0;34m=\u001b[0m \u001b[0mGetOpNodeProducer\u001b[0m\u001b[0;34m(\u001b[0m\u001b[0;32mFalse\u001b[0m\u001b[0;34m,\u001b[0m \u001b[0;34m**\u001b[0m\u001b[0mOP_STYLE\u001b[0m\u001b[0;34m)\u001b[0m\u001b[0;34m\u001b[0m\u001b[0m\n\u001b[1;32m     90\u001b[0m     \u001b[0moperators\u001b[0m\u001b[0;34m,\u001b[0m \u001b[0mname\u001b[0m \u001b[0;34m=\u001b[0m \u001b[0m_rectify_operator_and_name\u001b[0m\u001b[0;34m(\u001b[0m\u001b[0moperators_or_net\u001b[0m\u001b[0;34m,\u001b[0m \u001b[0mname\u001b[0m\u001b[0;34m)\u001b[0m\u001b[0;34m\u001b[0m\u001b[0m\n\u001b[0;32m---> 91\u001b[0;31m     \u001b[0mgraph\u001b[0m \u001b[0;34m=\u001b[0m \u001b[0mpydot\u001b[0m\u001b[0;34m.\u001b[0m\u001b[0mDot\u001b[0m\u001b[0;34m(\u001b[0m\u001b[0mname\u001b[0m\u001b[0;34m,\u001b[0m \u001b[0mrankdir\u001b[0m\u001b[0;34m=\u001b[0m\u001b[0mrankdir\u001b[0m\u001b[0;34m)\u001b[0m\u001b[0;34m\u001b[0m\u001b[0m\n\u001b[0m\u001b[1;32m     92\u001b[0m     \u001b[0mpydot_nodes\u001b[0m \u001b[0;34m=\u001b[0m \u001b[0;34m{\u001b[0m\u001b[0;34m}\u001b[0m\u001b[0;34m\u001b[0m\u001b[0m\n\u001b[1;32m     93\u001b[0m     \u001b[0mpydot_node_counts\u001b[0m \u001b[0;34m=\u001b[0m \u001b[0mdefaultdict\u001b[0m\u001b[0;34m(\u001b[0m\u001b[0mint\u001b[0m\u001b[0;34m)\u001b[0m\u001b[0;34m\u001b[0m\u001b[0m\n",
      "\u001b[0;31mAttributeError\u001b[0m: 'NoneType' object has no attribute 'Dot'"
     ]
    }
   ],
   "source": [
    "from IPython import display\n",
    "graph = net_drawer.GetPydotGraph(train_model.net.Proto().op, \"mnist\", rankdir=\"LR\")\n",
    "display.Image(graph.create_png(), width=800)"
   ]
  },
  {
   "cell_type": "code",
   "execution_count": null,
   "metadata": {},
   "outputs": [],
   "source": [
    "graph = net_drawer.GetPydotGraphMinimal(\n",
    "    train_model.net.Proto().op, \"mnist\", rankdir=\"LR\", minimal_dependency=True)\n",
    "display.Image(graph.create_png(), width=800)"
   ]
  },
  {
   "cell_type": "code",
   "execution_count": null,
   "metadata": {},
   "outputs": [],
   "source": [
    "print(\"*******train_model.net.Proto()*******\\n\")\n",
    "print(str(train_model.net.Proto())[:400] + '\\n...')\n",
    "print(\"\\n*******train_model.param_init_net.Proto()*******\\n\")\n",
    "print(str(train_model.param_init_net.Proto())[:400] + '\\n...')"
   ]
  },
  {
   "cell_type": "code",
   "execution_count": null,
   "metadata": {},
   "outputs": [],
   "source": [
    "# The parameter initialization network only needs to be run once.\n",
    "# Now all the parameter blobs are initialized in the workspace.\n",
    "workspace.RunNetOnce(train_model.param_init_net)\n",
    "\n",
    "# Creating an actual network as a C++ object in memory.\n",
    "#   We need this as the object is going to be used a lot\n",
    "#   so we avoid creating an object every single time it is used.\n",
    "# overwrite=True allows you to run this cell several times and avoid errors\n",
    "workspace.CreateNet(train_model.net, overwrite=True)\n",
    "\n",
    "# Set the iterations number and track the accuracy & loss\n",
    "total_iters = 200\n",
    "accuracy = np.zeros(total_iters)\n",
    "loss = np.zeros(total_iters)\n",
    "\n",
    "# MAIN TRAINING LOOP!\n",
    "# Now, we will manually run the network for 200 iterations. \n",
    "for i in range(total_iters):\n",
    "    workspace.RunNet(train_model.net)\n",
    "    accuracy[i] = workspace.blobs['accuracy']\n",
    "    loss[i] = workspace.blobs['loss']\n",
    "    # Check the accuracy and loss every so often\n",
    "    if i % 25 == 0:\n",
    "        print(\"Iter: {}, Loss: {}, Accuracy: {}\".format(i,loss[i],accuracy[i]))\n",
    "\n",
    "# After the execution is done, let's plot the values.\n",
    "pyplot.plot(loss, 'b')\n",
    "pyplot.plot(accuracy, 'r')\n",
    "pyplot.title(\"Summary of Training Run\")\n",
    "pyplot.xlabel(\"Iteration\")\n",
    "pyplot.legend(('Loss', 'Accuracy'), loc='upper right')"
   ]
  },
  {
   "cell_type": "code",
   "execution_count": null,
   "metadata": {},
   "outputs": [],
   "source": [
    "import caffe2\n",
    "print(caffe2.__file__)"
   ]
  },
  {
   "cell_type": "code",
   "execution_count": null,
   "metadata": {},
   "outputs": [],
   "source": []
  }
 ],
 "metadata": {
  "kernelspec": {
   "display_name": "Python 3",
   "language": "python",
   "name": "python3"
  },
  "language_info": {
   "codemirror_mode": {
    "name": "ipython",
    "version": 3
   },
   "file_extension": ".py",
   "mimetype": "text/x-python",
   "name": "python",
   "nbconvert_exporter": "python",
   "pygments_lexer": "ipython3",
   "version": "3.6.5"
  }
 },
 "nbformat": 4,
 "nbformat_minor": 2
}
