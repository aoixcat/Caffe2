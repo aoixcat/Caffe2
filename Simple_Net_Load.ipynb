{
 "cells": [
  {
   "cell_type": "code",
   "execution_count": 1,
   "metadata": {},
   "outputs": [],
   "source": [
    "import numpy as np\n",
    "import onnx"
   ]
  },
  {
   "cell_type": "code",
   "execution_count": 2,
   "metadata": {},
   "outputs": [
    {
     "name": "stdout",
     "output_type": "stream",
     "text": [
      "graph torch-jit-export (\n",
      "  %0[FLOAT, 1x784]\n",
      ") initializers (\n",
      "  %1[FLOAT, 500x784]\n",
      "  %2[FLOAT, 500]\n",
      "  %3[FLOAT, 84x500]\n",
      "  %4[FLOAT, 84]\n",
      "  %5[FLOAT, 10x84]\n",
      "  %6[FLOAT, 10]\n",
      ") {\n",
      "  %7 = Gemm[alpha = 1, beta = 1, broadcast = 1, transB = 1](%0, %1, %2)\n",
      "  %8 = Relu(%7)\n",
      "  %9 = Gemm[alpha = 1, beta = 1, broadcast = 1, transB = 1](%8, %3, %4)\n",
      "  %10 = Relu(%9)\n",
      "  %11 = Gemm[alpha = 1, beta = 1, broadcast = 1, transB = 1](%10, %5, %6)\n",
      "  %12 = LogSoftmax[axis = 1](%11)\n",
      "  return %12\n",
      "}\n"
     ]
    }
   ],
   "source": [
    "model = onnx.load(\"model.onnx\")\n",
    "print(onnx.helper.printable_graph(model.graph))"
   ]
  },
  {
   "cell_type": "code",
   "execution_count": 3,
   "metadata": {},
   "outputs": [
    {
     "name": "stdout",
     "output_type": "stream",
     "text": [
      "====== Inputs ======\n",
      "[Input #0]\n",
      "name: \"0\"\n",
      "type {\n",
      "  tensor_type {\n",
      "    elem_type: FLOAT\n",
      "    shape {\n",
      "      dim {\n",
      "        dim_value: 1\n",
      "      }\n",
      "      dim {\n",
      "        dim_value: 784\n",
      "      }\n",
      "    }\n",
      "  }\n",
      "}\n",
      "\n",
      "[Input #1]\n",
      "name: \"1\"\n",
      "type {\n",
      "  tensor_type {\n",
      "    elem_type: FLOAT\n",
      "    shape {\n",
      "      dim {\n",
      "        dim_value: 500\n",
      "      }\n",
      "      dim {\n",
      "        dim_value: 784\n",
      "      }\n",
      "    }\n",
      "  }\n",
      "}\n",
      "\n",
      "[Input #2]\n",
      "name: \"2\"\n",
      "type {\n",
      "  tensor_type {\n",
      "    elem_type: FLOAT\n",
      "    shape {\n",
      "      dim {\n",
      "        dim_value: 500\n",
      "      }\n",
      "    }\n",
      "  }\n",
      "}\n",
      "\n",
      "[Input #3]\n",
      "name: \"3\"\n",
      "type {\n",
      "  tensor_type {\n",
      "    elem_type: FLOAT\n",
      "    shape {\n",
      "      dim {\n",
      "        dim_value: 84\n",
      "      }\n",
      "      dim {\n",
      "        dim_value: 500\n",
      "      }\n",
      "    }\n",
      "  }\n",
      "}\n",
      "\n",
      "[Input #4]\n",
      "name: \"4\"\n",
      "type {\n",
      "  tensor_type {\n",
      "    elem_type: FLOAT\n",
      "    shape {\n",
      "      dim {\n",
      "        dim_value: 84\n",
      "      }\n",
      "    }\n",
      "  }\n",
      "}\n",
      "\n",
      "[Input #5]\n",
      "name: \"5\"\n",
      "type {\n",
      "  tensor_type {\n",
      "    elem_type: FLOAT\n",
      "    shape {\n",
      "      dim {\n",
      "        dim_value: 10\n",
      "      }\n",
      "      dim {\n",
      "        dim_value: 84\n",
      "      }\n",
      "    }\n",
      "  }\n",
      "}\n",
      "\n",
      "[Input #6]\n",
      "name: \"6\"\n",
      "type {\n",
      "  tensor_type {\n",
      "    elem_type: FLOAT\n",
      "    shape {\n",
      "      dim {\n",
      "        dim_value: 10\n",
      "      }\n",
      "    }\n",
      "  }\n",
      "}\n",
      "\n"
     ]
    }
   ],
   "source": [
    "# モデルの入力データ一覧を出力する\n",
    "print(\"====== Inputs ======\")\n",
    "for i, input in enumerate(model.graph.input):\n",
    "    print(\"[Input #{}]\".format(i))\n",
    "    print(input)"
   ]
  },
  {
   "cell_type": "code",
   "execution_count": 4,
   "metadata": {},
   "outputs": [
    {
     "name": "stdout",
     "output_type": "stream",
     "text": [
      "====== Outputs ======\n",
      "[Output #0]\n",
      "name: \"12\"\n",
      "type {\n",
      "  tensor_type {\n",
      "    elem_type: FLOAT\n",
      "    shape {\n",
      "      dim {\n",
      "        dim_value: 1\n",
      "      }\n",
      "      dim {\n",
      "        dim_value: 10\n",
      "      }\n",
      "    }\n",
      "  }\n",
      "}\n",
      "\n"
     ]
    }
   ],
   "source": [
    "# モデルの出力データ一覧を出力する\n",
    "print(\"====== Outputs ======\")\n",
    "for i, output in enumerate(model.graph.output):\n",
    "    print(\"[Output #{}]\".format(i))\n",
    "    print(output)"
   ]
  },
  {
   "cell_type": "code",
   "execution_count": null,
   "metadata": {},
   "outputs": [],
   "source": []
  }
 ],
 "metadata": {
  "kernelspec": {
   "display_name": "Python 2",
   "language": "python",
   "name": "python2"
  },
  "language_info": {
   "codemirror_mode": {
    "name": "ipython",
    "version": 2
   },
   "file_extension": ".py",
   "mimetype": "text/x-python",
   "name": "python",
   "nbconvert_exporter": "python",
   "pygments_lexer": "ipython2",
   "version": "2.7.12"
  }
 },
 "nbformat": 4,
 "nbformat_minor": 2
}
